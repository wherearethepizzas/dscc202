{
 "cells": [
  {
   "cell_type": "markdown",
   "metadata": {
    "application/vnd.databricks.v1+cell": {
     "cellMetadata": {
      "byteLimit": 2048000,
      "rowLimit": 10000
     },
     "inputWidgets": {},
     "nuid": "fc749083-2211-485c-943f-640e198b2c70",
     "showTitle": false,
     "tableResultSettingsMap": {},
     "title": ""
    }
   },
   "source": [
    "## DSCC202-402 Data Science at Scale Final Project\n",
    "### Tracking Tweet sentiment at scale using a pretrained transformer (classifier)\n",
    "<p>Consider the following illustration of the end to end system that you will be building.  Each student should do their own work.  The project will demonstrate your understanding of Spark Streaming, the medalion data architecture using Delta Lake, Spark Inference at Scale using an MLflow packaged model as well as Exploratory Data Analysis and System Tracking and Monitoring.</p>\n",
    "<br><br>\n",
    "<img src=\"https://data-science-at-scale.s3.amazonaws.com/images/pipeline.drawio.png\">\n",
    "\n",
    "<p>\n",
    "You will be pulling an updated copy of the course GitHub repositiory: <a href=\"https://github.com/lpalum/dscc202-402-spring2025\">The Repo</a>.  \n",
    "\n",
    "Once you have updated your fork of the repository you should see the following template project that is resident in the final_project directory.\n",
    "</p>\n",
    "\n",
    "<img src=\"https://data-science-at-scale.s3.amazonaws.com/images/notebooks.drawio.png\">\n",
    "\n",
    "<p>\n",
    "You can then pull your project into the Databrick Workspace using the <a href=\"https://github.com/apps/databricks\">Databricks App on Github</a> or by cloning the repo to your laptop and then uploading the final_project directory and its contents to your workspace using file imports.  Your choice.\n",
    "\n",
    "<p>\n",
    "Work your way through this notebook which will give you the steps required to submit a complete and compliant project.  The following illustration and associated data dictionary specifies the transformations and data that you are to generate for each step in the medallion pipeline.\n",
    "</p>\n",
    "<br><br>\n",
    "<img src=\"https://data-science-at-scale.s3.amazonaws.com/images/dataframes.drawio.png\">\n",
    "\n",
    "#### Bronze Data - raw ingest\n",
    "- date - string in the source json\n",
    "- user - string in the source json\n",
    "- text - tweet string in the source json\n",
    "- sentiment - the given sentiment of the text as determined by an unknown model that is provided in the source json\n",
    "- source_file - the path of the source json file the row of data was read from\n",
    "- processing_time - a timestamp of when you read this row from the source json\n",
    "\n",
    "#### Silver Data - Bronze Preprocessing\n",
    "- timestamp - convert date string in the bronze data to a timestamp\n",
    "- mention - every @username mentioned in the text string in the bronze data gets a row in this silver data table.\n",
    "- cleaned_text - the bronze text data with the mentions (@username) removed.\n",
    "- sentiment - the given sentiment that was associated with the text in the bronze table.\n",
    "\n",
    "#### Gold Data - Silver Table Inference\n",
    "- timestamp - the timestamp from the silver data table rows\n",
    "- mention - the mention from the silver data table rows\n",
    "- cleaned_text - the cleaned_text from the silver data table rows\n",
    "- sentiment - the given sentiment from the silver data table rows\n",
    "- predicted_score - score out of 100 from the Hugging Face Sentiment Transformer\n",
    "- predicted_sentiment - string representation of the sentiment\n",
    "- sentiment_id - 0 for negative and 1 for postive associated with the given sentiment\n",
    "- predicted_sentiment_id - 0 for negative and 1 for positive assocaited with the Hugging Face Sentiment Transformer\n",
    "\n",
    "#### Application Data - Gold Table Aggregation\n",
    "- min_timestamp - the oldest timestamp on a given mention (@username)\n",
    "- max_timestamp - the newest timestamp on a given mention (@username)\n",
    "- mention - the user (@username) that this row pertains to.\n",
    "- negative - total negative tweets directed at this mention (@username)\n",
    "- neutral - total neutral tweets directed at this mention (@username)\n",
    "- positive - total positive tweets directed at this mention (@username)\n",
    "\n",
    "When you are designing your approach, one of the main decisions that you will need to make is how you are going to orchestrate the streaming data processing in your pipeline.  There are several valid approaches to triggering your steams and how you will gate the execution of your pipeline.  Think through how you want to proceed and ask questions if you need guidance. The following references may be helpful:\n",
    "- [Spark Structured Streaming Programming Guide](https://spark.apache.org/docs/latest/structured-streaming-programming-guide.html)\n",
    "- [Databricks Autoloader - Cloudfiles](https://docs.databricks.com/en/ingestion/auto-loader/index.html)\n",
    "- [In class examples - Spark Structured Streaming Performance](https://dbc-f85bdc5b-07db.cloud.databricks.com/editor/notebooks/2638424645880316?o=1093580174577663)\n",
    "\n",
    "### Be sure your project runs end to end when *Run all* is executued on this notebook! (7 points)\n",
    "\n",
    "### This project is worth 25% of your final grade.\n",
    "- DSCC-202 Students have 55 possible points on this project (see points above and the instructions below)\n",
    "- DSCC-402 Students have 60 possible points on this project (one extra section to complete)"
   ]
  },
  {
   "cell_type": "code",
   "execution_count": 0,
   "metadata": {
    "application/vnd.databricks.v1+cell": {
     "cellMetadata": {
      "byteLimit": 2048000,
      "rowLimit": 10000
     },
     "inputWidgets": {},
     "nuid": "068f25d0-1387-4342-89cf-ce82a8d614ce",
     "showTitle": true,
     "tableResultSettingsMap": {},
     "title": "Pull in the Includes & Utiltites"
    }
   },
   "outputs": [],
   "source": [
    "%run ./includes/includes"
   ]
  },
  {
   "cell_type": "code",
   "execution_count": 0,
   "metadata": {
    "application/vnd.databricks.v1+cell": {
     "cellMetadata": {
      "byteLimit": 2048000,
      "rowLimit": 10000
     },
     "inputWidgets": {},
     "nuid": "6512bf1b-50e0-4a4b-84a9-e280a6260b56",
     "showTitle": true,
     "tableResultSettingsMap": {},
     "title": "Notebook Control Widgets (maybe helpful)"
    }
   },
   "outputs": [],
   "source": [
    "\"\"\"\n",
    "Adding a widget to the notebook to control the clearing of a previous run.\n",
    "or stopping the active streams using routines defined in the utilities notebook\n",
    "\"\"\"\n",
    "dbutils.widgets.removeAll()\n",
    "\n",
    "dbutils.widgets.dropdown(\"clear_previous_run\", \"No\", [\"No\",\"Yes\"])\n",
    "if (getArgument(\"clear_previous_run\") == \"Yes\"):\n",
    "    clear_previous_run()\n",
    "    print(\"Cleared all previous data.\")\n",
    "\n",
    "dbutils.widgets.dropdown(\"stop_streams\", \"No\", [\"No\",\"Yes\"])\n",
    "if (getArgument(\"stop_streams\") == \"Yes\"):\n",
    "    stop_all_streams()\n",
    "    print(\"Stopped all active streams.\")\n",
    "\n",
    "dbutils.widgets.dropdown(\"optimize_tables\", \"No\", [\"No\",\"Yes\"])\n",
    "if (getArgument(\"optimize_tables\") == \"Yes\"):\n",
    "    # Suck up those small files that we have been appending.\n",
    "    # Optimize the tables\n",
    "    optimize_table(BRONZE_DELTA)\n",
    "    optimize_table(SILVER_DELTA)\n",
    "    optimize_table(GOLD_DELTA)\n",
    "    print(\"Optimized all of the Delta Tables\")"
   ]
  },
  {
   "cell_type": "markdown",
   "metadata": {
    "application/vnd.databricks.v1+cell": {
     "cellMetadata": {
      "byteLimit": 2048000,
      "rowLimit": 10000
     },
     "inputWidgets": {},
     "nuid": "e8ce7c13-7f8f-4e11-b50c-fdaebbcf3f99",
     "showTitle": false,
     "tableResultSettingsMap": {},
     "title": ""
    }
   },
   "source": [
    "## 1.0 Import your libraries here (2 points)\n",
    "- Are your shuffle partitions consistent with your cluster and your workload?\n",
    "- Do you have the necessary libraries to perform the required operations in the pipeline/application?"
   ]
  },
  {
   "cell_type": "code",
   "execution_count": 0,
   "metadata": {
    "application/vnd.databricks.v1+cell": {
     "cellMetadata": {
      "byteLimit": 2048000,
      "rowLimit": 10000
     },
     "inputWidgets": {},
     "nuid": "67bafbb7-d34e-4e86-b159-b2e062faa1d0",
     "showTitle": false,
     "tableResultSettingsMap": {},
     "title": ""
    }
   },
   "outputs": [],
   "source": [
    "# ENTER YOUR CODE HERE\n",
    "from pyspark.sql.functions import *\n",
    "from datetime import datetime, timedelta\n",
    "import time\n",
    "import matplotlib.pyplot as plt\n",
    "import pandas as pd\n",
    "import mlflow\n",
    "\n",
    "\n",
    "total_cores = sc.defaultParallelism\n",
    "# Spark will group files into ~200 partitions\n",
    "spark.conf.set(\"spark.sql.shuffle.partitions\", total_cores * 50)\n",
    "# Optimize file reading\n",
    "spark.conf.set(\"spark.sql.files.maxPartitionBytes\", \"64m\")  # 64MB partition size to avoid tiny partitions\n",
    "spark.conf.set(\"spark.sql.files.openCostInBytes\", \"4194304\") # 4MB file open cost to coalesce small files\n",
    "\n",
    "print(f\"Set shuffle partitions to: {spark.conf.get('spark.sql.shuffle.partitions')}\")"
   ]
  },
  {
   "cell_type": "code",
   "execution_count": 0,
   "metadata": {
    "application/vnd.databricks.v1+cell": {
     "cellMetadata": {
      "byteLimit": 2048000,
      "rowLimit": 10000
     },
     "inputWidgets": {},
     "nuid": "7d969f1d-afe9-426d-95d8-a943ee0a0d89",
     "showTitle": false,
     "tableResultSettingsMap": {},
     "title": ""
    }
   },
   "outputs": [],
   "source": [
    "# import random\n",
    "# files = dbutils.fs.ls(TWEET_SOURCE_PATH)\n",
    "\n",
    "# # Creating a .5% subset of the data\n",
    "# file_list = [f.path for f in files]\n",
    "\n",
    "# file_sample = random.sample(file_list, 500)\n",
    "\n",
    "# TWEET_SUBSET = \"dbfs:/tmp/mkimani2/tweet_subset/\"\n",
    "\n",
    "# dbutils.fs.mkdirs(TWEET_SUBSET)\n",
    "\n",
    "# def copy_file(src_path):\n",
    "#     target_path = src_path.replace(TWEET_SOURCE_PATH, TWEET_SUBSET)\n",
    "#     dbutils.fs.cp(src_path, target_path)\n",
    "\n",
    "\n",
    "# for file_path in file_sample:\n",
    "#     copy_file(file_path)\n",
    "\n",
    "# print(f\"Copied {len(file_sample)} files to {TWEET_SUBSET}\")\n",
    "# TWEET_SUBSET = \"dbfs:/tmp/mkimani2/tweet_subset/\""
   ]
  },
  {
   "cell_type": "markdown",
   "metadata": {
    "application/vnd.databricks.v1+cell": {
     "cellMetadata": {
      "byteLimit": 2048000,
      "rowLimit": 10000
     },
     "inputWidgets": {},
     "nuid": "2b7624b4-0aa5-46b7-9767-52f462b2c574",
     "showTitle": false,
     "tableResultSettingsMap": {},
     "title": ""
    }
   },
   "source": [
    "## 2.0 Define and execute utility functions (3 points)\n",
    "- Read the source file directory listing\n",
    "- Count the source files (how many are there?)\n",
    "- print the contents of one of the files"
   ]
  },
  {
   "cell_type": "code",
   "execution_count": 0,
   "metadata": {
    "application/vnd.databricks.v1+cell": {
     "cellMetadata": {
      "byteLimit": 2048000,
      "rowLimit": 10000
     },
     "inputWidgets": {},
     "nuid": "a59749d5-e45d-460f-9be1-33652cda2ea5",
     "showTitle": false,
     "tableResultSettingsMap": {},
     "title": ""
    }
   },
   "outputs": [],
   "source": [
    "# ENTER YOUR CODE HERE\n",
    "files = dbutils.fs.ls(TWEET_SOURCE_PATH)\n",
    "display(spark.read.json(f\"{TWEET_SOURCE_PATH}/999.json\"))\n",
    "print(f\"File count: {len(files)}\")"
   ]
  },
  {
   "cell_type": "markdown",
   "metadata": {
    "application/vnd.databricks.v1+cell": {
     "cellMetadata": {
      "byteLimit": 2048000,
      "rowLimit": 10000
     },
     "inputWidgets": {},
     "nuid": "1676aed7-527f-4ea7-9d3b-52544e8c1e37",
     "showTitle": false,
     "tableResultSettingsMap": {},
     "title": ""
    }
   },
   "source": [
    "## 3.0 Transform the Raw Data to Bronze Data using a stream  (8 points)\n",
    "- define the schema for the raw data\n",
    "- setup a read stream using cloudfiles and the source data format\n",
    "- setup a write stream using delta lake to append to the bronze delta table\n",
    "- enforce schema\n",
    "- allow a new schema to be merged into the bronze delta table\n",
    "- Use the defined BRONZE_CHECKPOINT and BRONZE_DELTA paths defined in the includes\n",
    "- name your raw to bronze stream as bronze_stream\n",
    "- transform the raw data to the bronze data using the data definition at the top of the notebook"
   ]
  },
  {
   "cell_type": "code",
   "execution_count": 0,
   "metadata": {
    "application/vnd.databricks.v1+cell": {
     "cellMetadata": {
      "byteLimit": 2048000,
      "rowLimit": 10000
     },
     "inputWidgets": {},
     "nuid": "c4e37574-9885-4908-bf97-609d140a8818",
     "showTitle": false,
     "tableResultSettingsMap": {},
     "title": ""
    }
   },
   "outputs": [],
   "source": [
    "# ENTER YOUR CODE HERE\n",
    "bronze_schema = \"\"\"\n",
    "    date STRING,\n",
    "    user STRING,\n",
    "    text STRING,\n",
    "    sentiment STRING,\n",
    "    source_file STRING,\n",
    "    processing_time TIMESTAMP\n",
    "\"\"\"\n",
    "# Initialize empty table\n",
    "spark.createDataFrame([], bronze_schema) \\\n",
    "     .write.format(\"delta\") \\\n",
    "     .mode(\"overwrite\") \\\n",
    "     .save(BRONZE_DELTA)\n",
    "\n",
    "bronze_stream = (spark\n",
    "            .readStream\n",
    "            .format(\"cloudFiles\")\n",
    "            .schema(bronze_schema)\n",
    "            .option(\"cloudFiles.format\", \"json\")\n",
    "            .load(TWEET_SOURCE_PATH)\n",
    "            .withColumn(\"source_file\", input_file_name())\n",
    "            .withColumn(\"processing_time\", current_timestamp())\n",
    "            .writeStream\n",
    "            .format(\"delta\")\n",
    "            .outputMode(\"append\")\n",
    "            .option(\"checkpointLocation\", BRONZE_CHECKPOINT)\n",
    "            .trigger(processingTime='10 seconds')\n",
    "            .option(\"mergeSchema\", \"true\")\n",
    "            .queryName(\"bronze_stream\")\n",
    "            .start(BRONZE_DELTA))\n"
   ]
  },
  {
   "cell_type": "markdown",
   "metadata": {
    "application/vnd.databricks.v1+cell": {
     "cellMetadata": {
      "byteLimit": 2048000,
      "rowLimit": 10000
     },
     "inputWidgets": {},
     "nuid": "f94a594e-1a85-458f-9fe8-959e06d2e5f0",
     "showTitle": false,
     "tableResultSettingsMap": {},
     "title": ""
    }
   },
   "source": [
    "## 4.0 Transform the Bronze Data to Silver Data using a stream (5 points)\n",
    "- setup a read stream on your bronze delta table\n",
    "- setup a write stream to append to the silver delta table\n",
    "- Use the defined SILVER_CHECKPOINT and SILVER_DELTA paths in the includes\n",
    "- name your bronze to silver stream as silver_stream\n",
    "- transform the bronze data to the silver data using the data definition at the top of the notebook"
   ]
  },
  {
   "cell_type": "code",
   "execution_count": 0,
   "metadata": {
    "application/vnd.databricks.v1+cell": {
     "cellMetadata": {
      "byteLimit": 2048000,
      "rowLimit": 10000
     },
     "inputWidgets": {},
     "nuid": "091ec59c-d968-4acf-b56f-cc9178cd0693",
     "showTitle": false,
     "tableResultSettingsMap": {},
     "title": ""
    }
   },
   "outputs": [],
   "source": [
    "# ENTER YOUR CODE HERE\n",
    "spark.conf.set(\"spark.sql.legacy.timeParserPolicy\", \"LEGACY\") \n",
    "\n",
    "silver_schema = \"\"\"\n",
    "    timestamp TIMESTAMP,\n",
    "    mention STRING,\n",
    "    cleaned_text STRING,\n",
    "    sentiment STRING\n",
    "\"\"\"\n",
    "\n",
    "# Initialize empty table\n",
    "spark.createDataFrame([], silver_schema) \\\n",
    "     .write.format(\"delta\") \\\n",
    "     .mode(\"overwrite\") \\\n",
    "     .save(SILVER_DELTA)\n",
    "\n",
    "silver_stream = (spark\n",
    "                 .readStream\n",
    "                 .format(\"delta\")\n",
    "                 .load(BRONZE_DELTA)\n",
    "                 .withColumn(\"timestamp\", to_timestamp(col(\"date\"), \"EEE MMM dd HH:mm:ss z yyyy\"))\n",
    "                 .withColumn(\"mentions\", expr(r\"regexp_extract_all(text, '@(\\\\\\S+)', 1)\"))\n",
    "                 .withColumn(\"mention\", explode(col(\"mentions\")))\n",
    "                 .withColumn(\"cleaned_text\", regexp_replace(col(\"text\"), r\"@\\S+\", \"\"))\n",
    "                 .select(\"timestamp\",\n",
    "                         \"mention\",\n",
    "                         \"cleaned_text\",\n",
    "                         \"sentiment\")\n",
    "                 .writeStream\n",
    "                 .format(\"delta\")\n",
    "                 .outputMode(\"append\")\n",
    "                 .option(\"checkpointLocation\", SILVER_CHECKPOINT)\n",
    "                 .option(\"ignoreDeletes\", True)\n",
    "                 .trigger(processingTime='10 seconds')\n",
    "                 .queryName(\"silver_stream\")\n",
    "                 .start(SILVER_DELTA))"
   ]
  },
  {
   "cell_type": "markdown",
   "metadata": {
    "application/vnd.databricks.v1+cell": {
     "cellMetadata": {
      "byteLimit": 2048000,
      "rowLimit": 10000
     },
     "inputWidgets": {},
     "nuid": "9ee38aba-e340-4766-8339-71ef2ecfde3a",
     "showTitle": false,
     "tableResultSettingsMap": {},
     "title": ""
    }
   },
   "source": [
    "## 5.0 Transform the Silver Data to Gold Data using a stream (7 points)\n",
    "- setup a read stream on your silver delta table\n",
    "- setup a write stream to append to the gold delta table\n",
    "- Use the defined GOLD_CHECKPOINT and GOLD_DELTA paths defines in the includes\n",
    "- name your silver to gold stream as gold_stream\n",
    "- transform the silver data to the gold data using the data definition at the top of the notebook\n",
    "- Load the pretrained transformer sentiment classifier from the MODEL_NAME at the production level from the MLflow registry\n",
    "- Use a spark UDF to parallelize the inference across your silver data"
   ]
  },
  {
   "cell_type": "code",
   "execution_count": 0,
   "metadata": {
    "application/vnd.databricks.v1+cell": {
     "cellMetadata": {
      "byteLimit": 2048000,
      "rowLimit": 10000
     },
     "inputWidgets": {},
     "nuid": "31e8949d-c016-44a7-9f03-65f471dfd22d",
     "showTitle": false,
     "tableResultSettingsMap": {},
     "title": ""
    }
   },
   "outputs": [],
   "source": [
    "# ENTER YOUR CODE HERE\n",
    "gold_schema = \"\"\"\n",
    "    timestamp TIMESTAMP,\n",
    "    mention STRING, \n",
    "    cleaned_text STRING, \n",
    "    sentiment STRING, \n",
    "    predicted_score DOUBLE, \n",
    "    predicted_sentiment STRING, \n",
    "    sentiment_id INTEGER, \n",
    "    predicted_sentiment_id INTEGER\n",
    "\"\"\"\n",
    "result_schema = \"\"\"\n",
    "predicted_score DOUBLE,\n",
    "predicted_sentiment STRING\n",
    "\"\"\"\n",
    "\n",
    "@pandas_udf(result_schema, functionType=PandasUDFType.SCALAR_ITER)\n",
    "def predict_sentiment(tweets):\n",
    "    model = mlflow.pyfunc.load_model(f\"models:/{MODEL_NAME}/Production\")\n",
    "    for tweet in tweets:\n",
    "        input_data = {'text': tweet}\n",
    "        predictions = model.predict(input_data)\n",
    "        print(predictions)\n",
    "        yield pd.DataFrame({\n",
    "            \"predicted_score\": predictions[\"score\"],\n",
    "            \"predicted_sentiment\": predictions[\"label\"]\n",
    "        })\n",
    "# Initialize empty table\n",
    "spark.createDataFrame([], gold_schema) \\\n",
    "     .write.format(\"delta\") \\\n",
    "     .mode(\"overwrite\") \\\n",
    "     .save(GOLD_DELTA)\n",
    "\n",
    "gold_stream = (spark\n",
    "               .readStream\n",
    "               .format(\"delta\")\n",
    "               .load(SILVER_DELTA)\n",
    "               .withColumn(\"sentiment_id\", when(col(\"sentiment\") == \"positive\", lit(1)).otherwise(lit(0)))\n",
    "               .withColumn(\"predictions\", predict_sentiment(col(\"cleaned_text\")))\n",
    "               .withColumn(\"predicted_score\", col(\"predictions.predicted_score\"))\n",
    "               .withColumn(\"predicted_sentiment\", col(\"predictions.predicted_sentiment\"))\n",
    "               .withColumn(\"predicted_sentiment_id\", \n",
    "                           when(col(\"predicted_sentiment\") == \"POS\", lit(1))\n",
    "                           .when(col(\"predicted_sentiment\") == \"NEG\", lit(0))\n",
    "                           .otherwise(lit(-1)))\n",
    "               .drop(\"predictions\")\n",
    "               .writeStream\n",
    "               .format(\"delta\")\n",
    "               .outputMode(\"append\")\n",
    "               .option(\"checkpointLocation\", GOLD_CHECKPOINT)\n",
    "               .trigger(processingTime='10 seconds')\n",
    "               .queryName(\"gold_stream\")\n",
    "               .start(GOLD_DELTA)\n",
    ")"
   ]
  },
  {
   "cell_type": "markdown",
   "metadata": {
    "application/vnd.databricks.v1+cell": {
     "cellMetadata": {
      "byteLimit": 2048000,
      "rowLimit": 10000
     },
     "inputWidgets": {},
     "nuid": "05cd829f-46d6-4d94-8555-887d29a33daf",
     "showTitle": false,
     "tableResultSettingsMap": {},
     "title": ""
    }
   },
   "source": [
    "## 6.0 Monitor your Streams (5 points)\n",
    "- Setup a loop that runs at least every 10 seconds\n",
    "- Print a timestamp of the monitoring query along with the list of streams, rows processed on each, and the processing time on each\n",
    "- Run the loop until all of the data is processed (0 rows read on each active stream)\n",
    "- Plot a line graph that shows the data processed by each stream over time\n",
    "- Plot a line graph that shows the average processing time on each stream over time"
   ]
  },
  {
   "cell_type": "code",
   "execution_count": 0,
   "metadata": {
    "application/vnd.databricks.v1+cell": {
     "cellMetadata": {
      "byteLimit": 2048000,
      "rowLimit": 10000
     },
     "inputWidgets": {},
     "nuid": "acbddf2c-0c20-46d9-aa42-c5aed3e2f839",
     "showTitle": false,
     "tableResultSettingsMap": {},
     "title": ""
    }
   },
   "outputs": [],
   "source": [
    "# ENTER YOUR CODE HERE\n",
    "from datetime import datetime\n",
    "import matplotlib.pyplot as plt\n",
    "import time\n",
    "\n",
    "monitoring_data = []\n",
    "while True:\n",
    "    timestamp = datetime.now()\n",
    "    active_streams = spark.streams.active\n",
    "\n",
    "    print(f\"\\n=== Metrics at {timestamp} ===\")\n",
    "    exit_flags = [0, 0, 0]\n",
    "    stream_metrics = {}\n",
    "    for stream in active_streams:\n",
    "        \n",
    "        progress = stream.lastProgress\n",
    "        if progress:\n",
    "            rows = progress['numInputRows']\n",
    "            name = stream.name\n",
    "            processing_time = progress['durationMs'].get('triggerExecution', 0)\n",
    "\n",
    "            metrics = {\"name\": name,\n",
    "                       \"rows\": rows,\n",
    "                       \"processing_time\": processing_time,\n",
    "                       \"timestamp\": timestamp}\n",
    "            stream_metrics[name] = metrics\n",
    "\n",
    "            print(f\"Stream: {name}\")\n",
    "            print(f\"Rows processed: {rows}\")\n",
    "            print(f\"Processing time: {processing_time}\")\n",
    "\n",
    "            if (stream.name == \"bronze_stream\" and rows == 0):\n",
    "                exit_flags[0] = 1\n",
    "            elif (stream.name == \"silver_stream\" and rows == 0):\n",
    "                exit_flags[1] = 1\n",
    "            elif (stream.name == \"gold_stream\" and rows == 0):\n",
    "                exit_flags[2] = 1\n",
    "    \n",
    "    monitoring_data.append(stream_metrics)\n",
    "\n",
    "    sum = 0\n",
    "    for flag in exit_flags:\n",
    "        sum += flag\n",
    "    if sum == 3:\n",
    "        break\n",
    "    \n",
    "    time.sleep(10)\n",
    "\n",
    "# Viz\n",
    "# Prepare data structures\n",
    "stream_stats = {}\n",
    "\n",
    "# Process monitoring data\n",
    "for snapshot in monitoring_data:\n",
    "    for name, metrics in snapshot.items():\n",
    "        if name not in stream_stats:\n",
    "            stream_stats[name] = {\n",
    "                \"timestamps\": [],\n",
    "                \"rows\": [],\n",
    "                \"processing_times\": []\n",
    "            }\n",
    "        stream_stats[name][\"timestamps\"].append(metrics[\"timestamp\"])\n",
    "        stream_stats[name][\"rows\"].append(metrics[\"rows\"])\n",
    "        stream_stats[name][\"processing_times\"].append(metrics[\"processing_time\"])\n",
    "\n",
    "# Create plots\n",
    "fig, (ax1, ax2) = plt.subplots(2, 1, figsize=(12, 8))\n",
    "\n",
    "# Plot rows processed\n",
    "for name, stats in stream_stats.items():\n",
    "    ax1.plot(stats[\"timestamps\"], stats[\"rows\"], label=name, marker='o')\n",
    "ax1.set_title(\"Rows Processed Over Time\")\n",
    "ax1.set_ylabel(\"Rows\")\n",
    "ax1.legend()\n",
    "ax1.grid(True)\n",
    "\n",
    "# Plot processing time\n",
    "for name, stats in stream_stats.items():\n",
    "    ax2.plot(stats[\"timestamps\"], stats[\"processing_times\"], label=name, marker='x')\n",
    "ax2.set_title(\"Processing Time Over Time\")\n",
    "ax2.set_ylabel(\"Time (ms)\")\n",
    "ax2.legend()\n",
    "ax2.grid(True)\n",
    "\n",
    "plt.tight_layout()\n",
    "plt.show()"
   ]
  },
  {
   "cell_type": "markdown",
   "metadata": {
    "application/vnd.databricks.v1+cell": {
     "cellMetadata": {
      "byteLimit": 2048000,
      "rowLimit": 10000
     },
     "inputWidgets": {},
     "nuid": "9bc3e824-d218-43e5-a43b-4c6dbe31950d",
     "showTitle": false,
     "tableResultSettingsMap": {},
     "title": ""
    }
   },
   "source": [
    "## 7.0 Bronze Data Exploratory Data Analysis (5 points)\n",
    "- How many tweets are captured in your Bronze Table?\n",
    "- Are there any columns that contain Nan or Null values?  If so how many and what will you do in your silver transforms to address this?\n",
    "- Count the number of tweets by each unique user handle and sort the data by descending count.\n",
    "- How many tweets have at least one mention (@) how many tweet have no mentions (@)\n",
    "- Plot a bar chart that shows the top 20 tweeters (users)\n"
   ]
  },
  {
   "cell_type": "code",
   "execution_count": 0,
   "metadata": {
    "application/vnd.databricks.v1+cell": {
     "cellMetadata": {
      "byteLimit": 2048000,
      "rowLimit": 10000
     },
     "inputWidgets": {},
     "nuid": "33e05866-0264-43af-8a95-52e841124d60",
     "showTitle": false,
     "tableResultSettingsMap": {},
     "title": ""
    }
   },
   "outputs": [
    {
     "output_type": "display_data",
     "data": {
      "text/plain": [
       "Databricks visualization. Run in Databricks to view."
      ]
     },
     "metadata": {
      "application/vnd.databricks.v1.subcommand+json": {
       "baseErrorDetails": null,
       "bindings": {},
       "collapsed": false,
       "command": "%python\n__backend_agg_display_orig = display\n__backend_agg_dfs = []\ndef __backend_agg_display_new(df):\n    __backend_agg_df_modules = [\"pandas.core.frame\", \"databricks.koalas.frame\", \"pyspark.sql.dataframe\", \"pyspark.pandas.frame\", \"pyspark.sql.connect.dataframe\"]\n    if (type(df).__module__ in __backend_agg_df_modules and type(df).__name__ == 'DataFrame') or isinstance(df, list):\n        __backend_agg_dfs.append(df)\n\ndisplay = __backend_agg_display_new\n\ndef __backend_agg_user_code_fn():\n    import base64\n    exec(base64.standard_b64decode(\"IyBFTlRFUiBZT1VSIENPREUgSEVSRQpmcm9tIHB5c3Bhcmsuc3FsLmZ1bmN0aW9ucyBpbXBvcnQgc3VtCnRpbWUuc2xlZXAoMTApCmJyb256ZV9kZiA9IChzcGFyawogICAgICAgICAgICAgLnJlYWQKICAgICAgICAgICAgIC5sb2FkKEJST05aRV9ERUxUQSkpCnByaW50KGYiQnJvbnplIHRhYmxlIHR3ZWV0IGNvdW50OiB7YnJvbnplX2RmLmNvdW50KCl9IikKbnVsbF9jb3VudHMgPSBicm9uemVfZGYuYWdnKCpbc3VtKGlzbnVsbChjKS5jYXN0KCJpbnQiKSkuYWxpYXMoYyAiIG51bGwgY291bnQiKQogICAgICAgICAgICAgICAgICAgICAgICAgICAgICBmb3IgYyBpbiBicm9uemVfZGYuY29sdW1uc10pCmRpc3BsYXkobnVsbF9jb3VudHMpCgp0d2VldHNfcGVyX3VzZXIgPSAoYnJvbnplX2RmCiAgICAgICAgICAgICAgICAgICAuZ3JvdXBCeShjb2woInVzZXIiKSkKICAgICAgICAgICAgICAgICAgIC5hZ2coCiAgICAgICAgICAgICAgICAgICAgICAgY291bnQoY29sKCJ0ZXh0IikpLmFsaWFzKCJ0d2VldF9jb3VudCIpCiAgICAgICAgICAgICAgICAgICApCiAgICAgICAgICAgICAgICAgICAuc29ydCgidHdlZXRfY291bnQiLCBhc2NlbmRpbmc9RmFsc2UpKQpkaXNwbGF5KHR3ZWV0c19wZXJfdXNlcikKCm1lbnRpb25fY291bnQgPSAoYnJvbnplX2RmCiAgICAgICAgICAgICAgICAgLmFnZygKICAgICAgICAgICAgICAgICAgICAgc3VtKChjb2woInRleHQiKS5jb250YWlucygnQCcpLmNhc3QoImludCIpKSkuYWxpYXMoImd0ZV8xX21lbnRpb24iKQogICAgICAgICAgICAgICAgICkKICAgICAgICAgICAgICAgICAud2l0aENvbHVtbigibm9fbWVudGlvbnMiLCBicm9uemVfZGYuY291bnQoKSAtIGNvbCgiZ3RlXzFfbWVudGlvbiIpKSkKZGlzcGxheShtZW50aW9uX2NvdW50KQoKZGlzcGxheSh0d2VldHNfcGVyX3VzZXIubGltaXQoMjApKQo=\").decode())\n\ntry:\n    # run user code\n    __backend_agg_user_code_fn()\n\n    #reset display function\n    display = __backend_agg_display_orig\n\n    if len(__backend_agg_dfs) > 3:\n        # create a temp view\n        if type(__backend_agg_dfs[3]).__module__ == \"databricks.koalas.frame\":\n            # koalas dataframe\n            __backend_agg_dfs[3].to_spark().createOrReplaceTempView(\"DatabricksViewb7d4c00\")\n        elif type(__backend_agg_dfs[3]).__module__ == \"pandas.core.frame\" or isinstance(__backend_agg_dfs[3], list):\n            # pandas dataframe\n            spark.createDataFrame(__backend_agg_dfs[3]).createOrReplaceTempView(\"DatabricksViewb7d4c00\")\n        else:\n            __backend_agg_dfs[3].createOrReplaceTempView(\"DatabricksViewb7d4c00\")\n        #run backend agg\n        display(spark.sql(\"\"\"WITH q AS (select * from DatabricksViewb7d4c00) SELECT `user`,`tweet_count` FROM q\"\"\"))\n    else:\n        displayHTML(\"dataframe no longer exists. If you're using dataframe.display(), use display(dataframe) instead.\")\n\n\nfinally:\n    spark.sql(\"drop view if exists DatabricksViewb7d4c00\")\n    display = __backend_agg_display_orig\n    del __backend_agg_display_new\n    del __backend_agg_display_orig\n    del __backend_agg_dfs\n    del __backend_agg_user_code_fn\n\n",
       "commandTitle": "Top Twenty Tweeters",
       "commandType": "auto",
       "commandVersion": 0,
       "commentThread": [],
       "commentsVisible": false,
       "contentSha256Hex": null,
       "customPlotOptions": {
        "redashChart": [
         {
          "key": "type",
          "value": "CHART"
         },
         {
          "key": "options",
          "value": {
           "alignYAxesAtZero": true,
           "coefficient": 1,
           "columnConfigurationMap": {
            "x": {
             "column": "user",
             "id": "column_790cb133141"
            },
            "y": [
             {
              "column": "tweet_count",
              "id": "column_790cb133140"
             }
            ]
           },
           "dateTimeFormat": "DD/MM/YYYY HH:mm",
           "direction": {
            "type": "counterclockwise"
           },
           "error_y": {
            "type": "data",
            "visible": true
           },
           "globalSeriesType": "column",
           "isAggregationOn": false,
           "legend": {
            "traceorder": "normal"
           },
           "missingValuesAsZero": true,
           "numberFormat": "0,0.[00000]",
           "percentFormat": "0[.]00%",
           "series": {
            "error_y": {
             "type": "data",
             "visible": true
            },
            "stacking": null
           },
           "seriesOptions": {
            "tweet_count": {
             "type": "column",
             "yAxis": 0
            }
           },
           "showDataLabels": false,
           "sizemode": "diameter",
           "sortX": false,
           "sortY": true,
           "swappedAxes": false,
           "textFormat": "",
           "useAggregationsUi": true,
           "valuesOptions": {},
           "version": 2,
           "xAxis": {
            "labels": {
             "enabled": true
            },
            "type": "-"
           },
           "yAxis": [
            {
             "type": "-"
            },
            {
             "opposite": true,
             "type": "-"
            }
           ]
          }
         }
        ]
       },
       "datasetPreviewNameToCmdIdMap": {},
       "diffDeletes": [],
       "diffInserts": [],
       "displayType": "redashChart",
       "error": null,
       "errorDetails": null,
       "errorSummary": null,
       "errorTraceType": null,
       "finishTime": 0,
       "globalVars": {},
       "guid": "",
       "height": "auto",
       "hideCommandCode": false,
       "hideCommandResult": false,
       "iPythonMetadata": null,
       "inputWidgets": {},
       "isLockedInExamMode": false,
       "latestUser": "a user",
       "latestUserId": null,
       "listResultMetadata": null,
       "metadata": {
        "byteLimit": 2048000,
        "rowLimit": 10000
       },
       "nuid": "7f62de9d-e9c1-48de-ac67-8109f0db4750",
       "origId": 0,
       "parentHierarchy": [],
       "pivotAggregation": null,
       "pivotColumns": null,
       "position": 18.0,
       "resultDbfsErrorMessage": null,
       "resultDbfsStatus": "INLINED_IN_TREE",
       "results": null,
       "showCommandTitle": false,
       "startTime": 0,
       "state": "input",
       "streamStates": {},
       "subcommandOptions": {
        "queryPlan": {
         "selects": [
          {
           "column": "user",
           "type": "column"
          },
          {
           "column": "tweet_count",
           "type": "column"
          }
         ]
        }
       },
       "submitTime": 0,
       "subtype": "tableResultSubCmd.visualization",
       "tableResultIndex": 3,
       "tableResultSettingsMap": {},
       "useConsistentColors": false,
       "version": "CommandV1",
       "width": "auto",
       "workflows": null,
       "xColumns": null,
       "yColumns": null
      }
     },
     "output_type": "display_data"
    }
   ],
   "source": [
    "# ENTER YOUR CODE HERE\n",
    "from pyspark.sql.functions import sum\n",
    "time.sleep(10)\n",
    "bronze_df = (spark\n",
    "             .read\n",
    "             .load(BRONZE_DELTA))\n",
    "print(f\"Bronze table tweet count: {bronze_df.count()}\")\n",
    "null_counts = bronze_df.agg(*[sum(isnull(c).cast(\"int\")).alias(c + \" null count\")\n",
    "                              for c in bronze_df.columns])\n",
    "display(null_counts)\n",
    "\n",
    "tweets_per_user = (bronze_df\n",
    "                   .groupBy(col(\"user\"))\n",
    "                   .agg(\n",
    "                       count(col(\"text\")).alias(\"tweet_count\")\n",
    "                   )\n",
    "                   .sort(\"tweet_count\", ascending=False))\n",
    "display(tweets_per_user)\n",
    "\n",
    "mention_count = (bronze_df\n",
    "                 .agg(\n",
    "                     sum((col(\"text\").contains('@').cast(\"int\"))).alias(\"gte_1_mention\")\n",
    "                 )\n",
    "                 .withColumn(\"no_mentions\", bronze_df.count() - col(\"gte_1_mention\")))\n",
    "display(mention_count)\n",
    "\n",
    "display(tweets_per_user.limit(20))\n"
   ]
  },
  {
   "cell_type": "markdown",
   "metadata": {
    "application/vnd.databricks.v1+cell": {
     "cellMetadata": {
      "byteLimit": 2048000,
      "rowLimit": 10000
     },
     "inputWidgets": {},
     "nuid": "0494d8b4-5a55-47fc-af12-47325f34a303",
     "showTitle": false,
     "tableResultSettingsMap": {},
     "title": ""
    }
   },
   "source": [
    "## 8.0 Capture the accuracy metrics from the gold table in MLflow  (4 points)\n",
    "Store the following in an MLflow experiment run:\n",
    "- Store the precision, recall, and F1-score as MLflow metrics\n",
    "- Store an image of the confusion matrix as an MLflow artifact\n",
    "- Store the model name and the MLflow version that was used as an MLflow parameters\n",
    "- Store the version of the Delta Table (input-silver) as an MLflow parameter"
   ]
  },
  {
   "cell_type": "code",
   "execution_count": 0,
   "metadata": {
    "application/vnd.databricks.v1+cell": {
     "cellMetadata": {
      "byteLimit": 2048000,
      "rowLimit": 10000
     },
     "inputWidgets": {},
     "nuid": "3bb174ad-67e4-4b0a-be36-ff20a760ee8b",
     "showTitle": false,
     "tableResultSettingsMap": {},
     "title": ""
    }
   },
   "outputs": [],
   "source": [
    "# ENTER YOUR CODE HERE\n",
    "from sklearn.metrics import precision_score, recall_score, f1_score, confusion_matrix\n",
    "\n",
    "time.sleep(10)\n",
    "gold_df = spark.read.load(GOLD_DELTA)\n",
    "y_true = gold_df.select(col('sentiment_id')).toPandas()['sentiment_id']\n",
    "y_pred = gold_df.select(col('predicted_sentiment_id')).toPandas()['predicted_sentiment_id']\n",
    "with mlflow.start_run():\n",
    "    # Calculate metrics\n",
    "    precision = precision_score(y_true, y_pred, average='weighted')\n",
    "    recall = recall_score(y_true, y_pred, average='weighted')\n",
    "    f1 = f1_score(y_true, y_pred, average='weighted')\n",
    "    # Log metrics\n",
    "    mlflow.log_metric(\"precision\", precision)\n",
    "    mlflow.log_metric(\"recall\", recall)\n",
    "    mlflow.log_metric(\"f1_score\", f1)\n",
    "    # Create and save confusion matrix plot\n",
    "    cm = confusion_matrix(y_true, y_pred)\n",
    "    fig, ax = plt.subplots()\n",
    "    ax.matshow(cm, cmap=plt.cm.Blues)\n",
    "    for (i, j), v in np.ndenumerate(cm):\n",
    "        ax.text(j, i, v, ha='center', va='center')\n",
    "    plt.xlabel('Predicted')\n",
    "    plt.ylabel('Actual')\n",
    "    plt.title('Confusion Matrix')\n",
    "    plt.savefig(\"confusion_matrix.png\")\n",
    "    # Log matrix as artifact\n",
    "    mlflow.log_artifact(\"confusion_matrix.png\")\n",
    "    # Log parameters\n",
    "    mlflow.log_param(\"model_name\", MODEL_NAME)\n",
    "    mlflow.log_param(\"mlflow_version\", mlflow.__version__)\n",
    "    # Get & log SILVER_DELTA\n",
    "    delta_version = (spark.sql(f\"DESCRIBE HISTORY '{SILVER_DELTA}'\")\n",
    "                     .agg({\"version\": \"max\"})\n",
    "                     .collect()[0][0])\n",
    "    mlflow.log_param(\"delta_tbl_version\", delta_version)\n"
   ]
  },
  {
   "cell_type": "markdown",
   "metadata": {
    "application/vnd.databricks.v1+cell": {
     "cellMetadata": {
      "byteLimit": 2048000,
      "rowLimit": 10000
     },
     "inputWidgets": {},
     "nuid": "81e0e2de-b872-4698-81cc-1669646c2183",
     "showTitle": false,
     "tableResultSettingsMap": {},
     "title": ""
    }
   },
   "source": [
    "## 9.0 Application Data Processing and Visualization (6 points)\n",
    "- How many mentions are there in the gold data total?\n",
    "- Count the number of neutral, positive and negative tweets for each mention in new columns\n",
    "- Capture the total for each mention in a new column\n",
    "- Sort the mention count totals in descending order\n",
    "- Plot a bar chart of the top 20 mentions with positive sentiment (the people who are in favor)\n",
    "- Plot a bar chart of the top 20 mentions with negative sentiment (the people who are the vilians)\n",
    "\n",
    "*note: A mention is a specific twitter user that has been \"mentioned\" in a tweet with an @user reference."
   ]
  },
  {
   "cell_type": "code",
   "execution_count": 0,
   "metadata": {
    "application/vnd.databricks.v1+cell": {
     "cellMetadata": {
      "byteLimit": 2048000,
      "rowLimit": 10000
     },
     "inputWidgets": {},
     "nuid": "8250667b-eaa5-48a1-90c7-bfe11e666e32",
     "showTitle": false,
     "tableResultSettingsMap": {},
     "title": ""
    }
   },
   "outputs": [
    {
     "output_type": "display_data",
     "data": {
      "text/plain": [
       "Databricks visualization. Run in Databricks to view."
      ]
     },
     "metadata": {
      "application/vnd.databricks.v1.subcommand+json": {
       "baseErrorDetails": null,
       "bindings": {},
       "collapsed": false,
       "command": "%python\n__backend_agg_display_orig = display\n__backend_agg_dfs = []\ndef __backend_agg_display_new(df):\n    __backend_agg_df_modules = [\"pandas.core.frame\", \"databricks.koalas.frame\", \"pyspark.sql.dataframe\", \"pyspark.pandas.frame\", \"pyspark.sql.connect.dataframe\"]\n    if (type(df).__module__ in __backend_agg_df_modules and type(df).__name__ == 'DataFrame') or isinstance(df, list):\n        __backend_agg_dfs.append(df)\n\ndisplay = __backend_agg_display_new\n\ndef __backend_agg_user_code_fn():\n    import base64\n    exec(base64.standard_b64decode(\"IyBFTlRFUiBZT1VSIENPREUgSEVSRQphcHBsaWNhdGlvbl9zY2hlbWEgPSAiIiIKICAgIG1pbl90aW1lc3RhbXAgVElNRVNUQU1QLCAKICAgIG1heF90aW1lc3RhbXAgVElNRVNUQU1QLCAKICAgIG1lbnRpb24gU1RSSU5HLCAKICAgIG5lZ2F0aXZlIExPTkcsIAogICAgbmV1dHJhbCBMT05HLCAKICAgIHBvc2l0aXZlIExPTkcsIAogICAgdG90YWwgTE9ORwoiIiIKdGltZS5zbGVlcCgxMCkKYXBwbGljYXRpb25fZGYgPSAoc3BhcmsucmVhZAogICAgICAgICAgICAgICAgICAubG9hZChHT0xEX0RFTFRBKQogICAgICAgICAgICAgICAgICAuZ3JvdXBCeSgibWVudGlvbiIpCiAgICAgICAgICAgICAgICAgIC5hZ2coCiAgICAgICAgICAgICAgICAgICAgICBtaW4oInRpbWVzdGFtcCIpLmFsaWFzKCJtaW5fdGltZXN0YW1wIiksCiAgICAgICAgICAgICAgICAgICAgICBtYXgoInRpbWVzdGFtcCIpLmFsaWFzKCJtYXhfdGltZXN0YW1wIiksCiAgICAgICAgICAgICAgICAgICAgICBzdW0od2hlbihjb2woInNlbnRpbWVudCIpID09ICduZWdhdGl2ZScsIDEpLm90aGVyd2lzZSgwKSkuYWxpYXMoIm5lZ2F0aXZlIiksCiAgICAgICAgICAgICAgICAgICAgICBzdW0od2hlbihjb2woInNlbnRpbWVudCIpID09ICduZXV0cmFsJywgMSkub3RoZXJ3aXNlKDApKS5hbGlhcygibmV1dHJhbCIpLAogICAgICAgICAgICAgICAgICAgICAgc3VtKHdoZW4oY29sKCJzZW50aW1lbnQiKSA9PSAncG9zaXRpdmUnLCAxKS5vdGhlcndpc2UoMCkpLmFsaWFzKCJwb3NpdGl2ZSIpLAogICAgICAgICAgICAgICAgICAgICAgc3VtKGNvbCgic2VudGltZW50IikpLmFsaWFzKCJ0b3RhbCIpCiAgICAgICAgICAgICAgICAgICkKICAgICAgICAgICAgICAgICAgLnNvcnQoInRvdGFsIiwgYXNjZW5kaW5nPUZhbHNlKSkKCnByaW50KGYiVG90YWwgbWVudGlvbnM6IHthcHBsaWNhdGlvbl9kZi5jb3VudCgpfSIpCgpwb3NpdGl2ZV9tZW50aW9ucyA9IGFwcGxpY2F0aW9uX2RmLnNlbGVjdCgnbWVudGlvbicsICdwb3NpdGl2ZScpLnNvcnQoInBvc2l0aXZlIiwgYXNjZW5kaW5nPUZhbHNlKS5saW1pdCgyMCkKbmVnYXRpdmVfbWVudGlvbnMgPSBhcHBsaWNhdGlvbl9kZi5zZWxlY3QoJ21lbnRpb24nLCAnbmVnYXRpdmUnKS5zb3J0KCJuZWdhdGl2ZSIsIGFzY2VuZGluZz1GYWxzZSkubGltaXQoMjApCmRpc3BsYXkocG9zaXRpdmVfbWVudGlvbnMpCmRpc3BsYXkobmVnYXRpdmVfbWVudGlvbnMp\").decode())\n\ntry:\n    # run user code\n    __backend_agg_user_code_fn()\n\n    #reset display function\n    display = __backend_agg_display_orig\n\n    if len(__backend_agg_dfs) > 0:\n        # create a temp view\n        if type(__backend_agg_dfs[0]).__module__ == \"databricks.koalas.frame\":\n            # koalas dataframe\n            __backend_agg_dfs[0].to_spark().createOrReplaceTempView(\"DatabricksViewe881079\")\n        elif type(__backend_agg_dfs[0]).__module__ == \"pandas.core.frame\" or isinstance(__backend_agg_dfs[0], list):\n            # pandas dataframe\n            spark.createDataFrame(__backend_agg_dfs[0]).createOrReplaceTempView(\"DatabricksViewe881079\")\n        else:\n            __backend_agg_dfs[0].createOrReplaceTempView(\"DatabricksViewe881079\")\n        #run backend agg\n        display(spark.sql(\"\"\"WITH q AS (select * from DatabricksViewe881079) SELECT `mention`,`positive` FROM q\"\"\"))\n    else:\n        displayHTML(\"dataframe no longer exists. If you're using dataframe.display(), use display(dataframe) instead.\")\n\n\nfinally:\n    spark.sql(\"drop view if exists DatabricksViewe881079\")\n    display = __backend_agg_display_orig\n    del __backend_agg_display_new\n    del __backend_agg_display_orig\n    del __backend_agg_dfs\n    del __backend_agg_user_code_fn\n\n",
       "commandTitle": "Positive mentions",
       "commandType": "auto",
       "commandVersion": 0,
       "commentThread": [],
       "commentsVisible": false,
       "contentSha256Hex": null,
       "customPlotOptions": {
        "redashChart": [
         {
          "key": "type",
          "value": "CHART"
         },
         {
          "key": "options",
          "value": {
           "alignYAxesAtZero": true,
           "coefficient": 1,
           "columnConfigurationMap": {
            "x": {
             "column": "mention",
             "id": "column_4a698deb300"
            },
            "y": [
             {
              "column": "positive",
              "id": "column_4a698deb301"
             }
            ]
           },
           "dateTimeFormat": "DD/MM/YYYY HH:mm",
           "direction": {
            "type": "counterclockwise"
           },
           "error_y": {
            "type": "data",
            "visible": true
           },
           "globalSeriesType": "column",
           "isAggregationOn": false,
           "legend": {
            "traceorder": "normal"
           },
           "missingValuesAsZero": true,
           "numberFormat": "0,0.[00000]",
           "percentFormat": "0[.]00%",
           "series": {
            "error_y": {
             "type": "data",
             "visible": true
            },
            "stacking": null
           },
           "seriesOptions": {
            "positive": {
             "name": "positive",
             "type": "column",
             "yAxis": 0
            }
           },
           "showDataLabels": false,
           "sizemode": "diameter",
           "sortX": false,
           "sortY": true,
           "swappedAxes": false,
           "textFormat": "",
           "useAggregationsUi": true,
           "valuesOptions": {},
           "version": 2,
           "xAxis": {
            "labels": {
             "enabled": true
            },
            "title": {
             "text": "Username"
            },
            "type": "-"
           },
           "yAxis": [
            {
             "title": {
              "text": "Number of mentions"
             },
             "type": "-"
            },
            {
             "opposite": true,
             "type": "-"
            }
           ]
          }
         }
        ]
       },
       "datasetPreviewNameToCmdIdMap": {},
       "diffDeletes": [],
       "diffInserts": [],
       "displayType": "redashChart",
       "error": null,
       "errorDetails": null,
       "errorSummary": null,
       "errorTraceType": null,
       "finishTime": 0,
       "globalVars": {},
       "guid": "",
       "height": "auto",
       "hideCommandCode": false,
       "hideCommandResult": false,
       "iPythonMetadata": null,
       "inputWidgets": {},
       "isLockedInExamMode": false,
       "latestUser": "a user",
       "latestUserId": null,
       "listResultMetadata": null,
       "metadata": {
        "byteLimit": 2048000,
        "rowLimit": 10000
       },
       "nuid": "ad8cc90f-ebab-4d8d-9c67-4cc2a3d6b5b0",
       "origId": 0,
       "parentHierarchy": [],
       "pivotAggregation": null,
       "pivotColumns": null,
       "position": 22.0,
       "resultDbfsErrorMessage": null,
       "resultDbfsStatus": "INLINED_IN_TREE",
       "results": null,
       "showCommandTitle": false,
       "startTime": 0,
       "state": "input",
       "streamStates": {},
       "subcommandOptions": {
        "queryPlan": {
         "selects": [
          {
           "column": "mention",
           "type": "column"
          },
          {
           "column": "positive",
           "type": "column"
          }
         ]
        }
       },
       "submitTime": 0,
       "subtype": "tableResultSubCmd.visualization",
       "tableResultIndex": 0,
       "tableResultSettingsMap": {},
       "useConsistentColors": false,
       "version": "CommandV1",
       "width": "auto",
       "workflows": null,
       "xColumns": null,
       "yColumns": null
      }
     },
     "output_type": "display_data"
    },
    {
     "output_type": "display_data",
     "data": {
      "text/plain": [
       "Databricks visualization. Run in Databricks to view."
      ]
     },
     "metadata": {
      "application/vnd.databricks.v1.subcommand+json": {
       "baseErrorDetails": null,
       "bindings": {},
       "collapsed": false,
       "command": "%python\n__backend_agg_display_orig = display\n__backend_agg_dfs = []\ndef __backend_agg_display_new(df):\n    __backend_agg_df_modules = [\"pandas.core.frame\", \"databricks.koalas.frame\", \"pyspark.sql.dataframe\", \"pyspark.pandas.frame\", \"pyspark.sql.connect.dataframe\"]\n    if (type(df).__module__ in __backend_agg_df_modules and type(df).__name__ == 'DataFrame') or isinstance(df, list):\n        __backend_agg_dfs.append(df)\n\ndisplay = __backend_agg_display_new\n\ndef __backend_agg_user_code_fn():\n    import base64\n    exec(base64.standard_b64decode(\"IyBFTlRFUiBZT1VSIENPREUgSEVSRQphcHBsaWNhdGlvbl9zY2hlbWEgPSAiIiIKICAgIG1pbl90aW1lc3RhbXAgVElNRVNUQU1QLCAKICAgIG1heF90aW1lc3RhbXAgVElNRVNUQU1QLCAKICAgIG1lbnRpb24gU1RSSU5HLCAKICAgIG5lZ2F0aXZlIExPTkcsIAogICAgbmV1dHJhbCBMT05HLCAKICAgIHBvc2l0aXZlIExPTkcsIAogICAgdG90YWwgTE9ORwoiIiIKdGltZS5zbGVlcCgxMCkKYXBwbGljYXRpb25fZGYgPSAoc3BhcmsucmVhZAogICAgICAgICAgICAgICAgICAubG9hZChHT0xEX0RFTFRBKQogICAgICAgICAgICAgICAgICAuZ3JvdXBCeSgibWVudGlvbiIpCiAgICAgICAgICAgICAgICAgIC5hZ2coCiAgICAgICAgICAgICAgICAgICAgICBtaW4oInRpbWVzdGFtcCIpLmFsaWFzKCJtaW5fdGltZXN0YW1wIiksCiAgICAgICAgICAgICAgICAgICAgICBtYXgoInRpbWVzdGFtcCIpLmFsaWFzKCJtYXhfdGltZXN0YW1wIiksCiAgICAgICAgICAgICAgICAgICAgICBzdW0od2hlbihjb2woInNlbnRpbWVudCIpID09ICduZWdhdGl2ZScsIDEpLm90aGVyd2lzZSgwKSkuYWxpYXMoIm5lZ2F0aXZlIiksCiAgICAgICAgICAgICAgICAgICAgICBzdW0od2hlbihjb2woInNlbnRpbWVudCIpID09ICduZXV0cmFsJywgMSkub3RoZXJ3aXNlKDApKS5hbGlhcygibmV1dHJhbCIpLAogICAgICAgICAgICAgICAgICAgICAgc3VtKHdoZW4oY29sKCJzZW50aW1lbnQiKSA9PSAncG9zaXRpdmUnLCAxKS5vdGhlcndpc2UoMCkpLmFsaWFzKCJwb3NpdGl2ZSIpLAogICAgICAgICAgICAgICAgICAgICAgc3VtKGNvbCgic2VudGltZW50IikpLmFsaWFzKCJ0b3RhbCIpCiAgICAgICAgICAgICAgICAgICkKICAgICAgICAgICAgICAgICAgLnNvcnQoInRvdGFsIiwgYXNjZW5kaW5nPUZhbHNlKSkKCnByaW50KGYiVG90YWwgbWVudGlvbnM6IHthcHBsaWNhdGlvbl9kZi5jb3VudCgpfSIpCgpwb3NpdGl2ZV9tZW50aW9ucyA9IGFwcGxpY2F0aW9uX2RmLnNlbGVjdCgnbWVudGlvbicsICdwb3NpdGl2ZScpLnNvcnQoInBvc2l0aXZlIiwgYXNjZW5kaW5nPUZhbHNlKS5saW1pdCgyMCkKbmVnYXRpdmVfbWVudGlvbnMgPSBhcHBsaWNhdGlvbl9kZi5zZWxlY3QoJ21lbnRpb24nLCAnbmVnYXRpdmUnKS5zb3J0KCJuZWdhdGl2ZSIsIGFzY2VuZGluZz1GYWxzZSkubGltaXQoMjApCmRpc3BsYXkocG9zaXRpdmVfbWVudGlvbnMpCmRpc3BsYXkobmVnYXRpdmVfbWVudGlvbnMp\").decode())\n\ntry:\n    # run user code\n    __backend_agg_user_code_fn()\n\n    #reset display function\n    display = __backend_agg_display_orig\n\n    if len(__backend_agg_dfs) > 1:\n        # create a temp view\n        if type(__backend_agg_dfs[1]).__module__ == \"databricks.koalas.frame\":\n            # koalas dataframe\n            __backend_agg_dfs[1].to_spark().createOrReplaceTempView(\"DatabricksView4a24f5a\")\n        elif type(__backend_agg_dfs[1]).__module__ == \"pandas.core.frame\" or isinstance(__backend_agg_dfs[1], list):\n            # pandas dataframe\n            spark.createDataFrame(__backend_agg_dfs[1]).createOrReplaceTempView(\"DatabricksView4a24f5a\")\n        else:\n            __backend_agg_dfs[1].createOrReplaceTempView(\"DatabricksView4a24f5a\")\n        #run backend agg\n        display(spark.sql(\"\"\"WITH q AS (select * from DatabricksView4a24f5a) SELECT `mention`,`negative` FROM q\"\"\"))\n    else:\n        displayHTML(\"dataframe no longer exists. If you're using dataframe.display(), use display(dataframe) instead.\")\n\n\nfinally:\n    spark.sql(\"drop view if exists DatabricksView4a24f5a\")\n    display = __backend_agg_display_orig\n    del __backend_agg_display_new\n    del __backend_agg_display_orig\n    del __backend_agg_dfs\n    del __backend_agg_user_code_fn\n\n",
       "commandTitle": "Negative mentions",
       "commandType": "auto",
       "commandVersion": 0,
       "commentThread": [],
       "commentsVisible": false,
       "contentSha256Hex": null,
       "customPlotOptions": {
        "redashChart": [
         {
          "key": "type",
          "value": "CHART"
         },
         {
          "key": "options",
          "value": {
           "alignYAxesAtZero": true,
           "coefficient": 1,
           "columnConfigurationMap": {
            "x": {
             "column": "mention",
             "id": "column_4a698deb309"
            },
            "y": [
             {
              "column": "negative",
              "id": "column_4a698deb310"
             }
            ]
           },
           "dateTimeFormat": "DD/MM/YYYY HH:mm",
           "direction": {
            "type": "counterclockwise"
           },
           "error_y": {
            "type": "data",
            "visible": true
           },
           "globalSeriesType": "column",
           "hideYAxes": false,
           "isAggregationOn": false,
           "legend": {
            "traceorder": "normal"
           },
           "missingValuesAsZero": true,
           "numberFormat": "0,0.[00000]",
           "percentFormat": "0[.]00%",
           "series": {
            "error_y": {
             "type": "data",
             "visible": true
            },
            "stacking": null
           },
           "seriesOptions": {
            "negative": {
             "name": "negative",
             "type": "column",
             "yAxis": 0
            }
           },
           "showDataLabels": false,
           "sizemode": "diameter",
           "sortX": false,
           "sortY": true,
           "swappedAxes": false,
           "textFormat": "",
           "useAggregationsUi": true,
           "valuesOptions": {},
           "version": 2,
           "xAxis": {
            "labels": {
             "enabled": true
            },
            "title": {
             "text": "Username"
            },
            "type": "-"
           },
           "yAxis": [
            {
             "title": {
              "text": "Number of mentions"
             },
             "type": "linear"
            },
            {
             "opposite": true,
             "type": "-"
            }
           ]
          }
         }
        ]
       },
       "datasetPreviewNameToCmdIdMap": {},
       "diffDeletes": [],
       "diffInserts": [],
       "displayType": "redashChart",
       "error": null,
       "errorDetails": null,
       "errorSummary": null,
       "errorTraceType": null,
       "finishTime": 0,
       "globalVars": {},
       "guid": "",
       "height": "auto",
       "hideCommandCode": false,
       "hideCommandResult": false,
       "iPythonMetadata": null,
       "inputWidgets": {},
       "isLockedInExamMode": false,
       "latestUser": "a user",
       "latestUserId": null,
       "listResultMetadata": null,
       "metadata": {
        "byteLimit": 2048000,
        "rowLimit": 10000
       },
       "nuid": "f7da8118-b2c2-47a6-878c-95f879c23701",
       "origId": 0,
       "parentHierarchy": [],
       "pivotAggregation": null,
       "pivotColumns": null,
       "position": 22.0,
       "resultDbfsErrorMessage": null,
       "resultDbfsStatus": "INLINED_IN_TREE",
       "results": null,
       "showCommandTitle": false,
       "startTime": 0,
       "state": "input",
       "streamStates": {},
       "subcommandOptions": {
        "queryPlan": {
         "selects": [
          {
           "column": "mention",
           "type": "column"
          },
          {
           "column": "negative",
           "type": "column"
          }
         ]
        }
       },
       "submitTime": 0,
       "subtype": "tableResultSubCmd.visualization",
       "tableResultIndex": 1,
       "tableResultSettingsMap": {},
       "useConsistentColors": false,
       "version": "CommandV1",
       "width": "auto",
       "workflows": null,
       "xColumns": null,
       "yColumns": null
      }
     },
     "output_type": "display_data"
    }
   ],
   "source": [
    "# ENTER YOUR CODE HERE\n",
    "application_schema = \"\"\"\n",
    "    min_timestamp TIMESTAMP, \n",
    "    max_timestamp TIMESTAMP, \n",
    "    mention STRING, \n",
    "    negative LONG, \n",
    "    neutral LONG, \n",
    "    positive LONG, \n",
    "    total LONG\n",
    "\"\"\"\n",
    "time.sleep(10)\n",
    "application_df = (spark.read\n",
    "                  .load(GOLD_DELTA)\n",
    "                  .groupBy(\"mention\")\n",
    "                  .agg(\n",
    "                      min(\"timestamp\").alias(\"min_timestamp\"),\n",
    "                      max(\"timestamp\").alias(\"max_timestamp\"),\n",
    "                      sum(when(col(\"sentiment\") == 'negative', 1).otherwise(0)).alias(\"negative\"),\n",
    "                      sum(when(col(\"sentiment\") == 'neutral', 1).otherwise(0)).alias(\"neutral\"),\n",
    "                      sum(when(col(\"sentiment\") == 'positive', 1).otherwise(0)).alias(\"positive\"),\n",
    "                      sum(col(\"sentiment\")).alias(\"total\")\n",
    "                  )\n",
    "                  .sort(\"total\", ascending=False))\n",
    "\n",
    "print(f\"Total mentions: {application_df.count()}\")\n",
    "\n",
    "positive_mentions = application_df.select('mention', 'positive').sort(\"positive\", ascending=False).limit(20)\n",
    "negative_mentions = application_df.select('mention', 'negative').sort(\"negative\", ascending=False).limit(20)\n",
    "display(positive_mentions)\n",
    "display(negative_mentions)"
   ]
  },
  {
   "cell_type": "markdown",
   "metadata": {
    "application/vnd.databricks.v1+cell": {
     "cellMetadata": {
      "byteLimit": 2048000,
      "rowLimit": 10000
     },
     "inputWidgets": {},
     "nuid": "5d5add3f-0c13-4d81-86d8-12cf3cfdd2c8",
     "showTitle": false,
     "tableResultSettingsMap": {},
     "title": ""
    }
   },
   "source": [
    "## 10.0 Clean up and completion of your pipeline (3 points)\n",
    "- using the utilities what streams are running? If any.\n",
    "- Stop all active streams\n",
    "- print out the elapsed time of your notebook. Note: In the includes there is a variable START_TIME that captures the starting time of the notebook."
   ]
  },
  {
   "cell_type": "code",
   "execution_count": 0,
   "metadata": {
    "application/vnd.databricks.v1+cell": {
     "cellMetadata": {
      "byteLimit": 2048000,
      "rowLimit": 10000
     },
     "inputWidgets": {},
     "nuid": "0304e685-c26e-447d-b230-c37266f30003",
     "showTitle": false,
     "tableResultSettingsMap": {},
     "title": ""
    }
   },
   "outputs": [],
   "source": [
    "# ENTER YOUR CODE HERE\n",
    "from datetime import timedelta\n",
    "\n",
    "for stream in spark.streams.active:\n",
    "    print(f\"{stream.name} is active.\")\n",
    "    stream.stop()\n",
    "    print(f\"{stream.name} has been stopped.\")\n",
    "\n",
    "print(f\"Elapsed time: {timedelta(seconds = time.time() - START_TIME)}\")\n"
   ]
  },
  {
   "cell_type": "markdown",
   "metadata": {
    "application/vnd.databricks.v1+cell": {
     "cellMetadata": {
      "byteLimit": 2048000,
      "rowLimit": 10000
     },
     "inputWidgets": {},
     "nuid": "b88fc0e5-f50c-4ed1-9480-16a4c8a44b30",
     "showTitle": false,
     "tableResultSettingsMap": {},
     "title": ""
    }
   },
   "source": [
    "## 11.0 How Optimized is your Spark Application (Grad Students Only) (5 points)\n",
    "Graduate students (registered for the DSCC-402 section of the course) are required to do this section.  This is a written analysis using the Spark UI (link to screen shots) that support your analysis of your pipelines execution and what is driving its performance.\n",
    "Recall that Spark Optimization has 5 significant dimensions of considertation:\n",
    "- Spill: write to executor disk due to lack of memory\n",
    "- Skew: imbalance in partition size\n",
    "- Shuffle: network io moving data between executors (wide transforms)\n",
    "- Storage: inefficiency due to disk storage format (small files, location)\n",
    "- Serialization: distribution of code segments across the cluster\n",
    "\n",
    "Comment on each of the dimentions of performance and how your impelementation is or is not being affected.  Use specific information in the Spark UI to support your description.  \n",
    "\n",
    "Note: you can take sreenshots of the Spark UI from your project runs in databricks and then link to those pictures by storing them as a publicly accessible file on your cloud drive (google, one drive, etc.)\n",
    "\n",
    "References:\n",
    "- [Spark UI Reference Reference](https://spark.apache.org/docs/latest/web-ui.html#web-ui)\n",
    "- [Spark UI Simulator](https://www.databricks.training/spark-ui-simulator/index.html)"
   ]
  },
  {
   "cell_type": "markdown",
   "metadata": {
    "application/vnd.databricks.v1+cell": {
     "cellMetadata": {
      "byteLimit": 2048000,
      "rowLimit": 10000
     },
     "inputWidgets": {},
     "nuid": "a0a5707d-a5ca-4e87-9e74-3b13d00337b0",
     "showTitle": false,
     "tableResultSettingsMap": {},
     "title": ""
    }
   },
   "source": [
    "### ENTER YOUR MARKDOWN HERE"
   ]
  }
 ],
 "metadata": {
  "application/vnd.databricks.v1+notebook": {
   "computePreferences": null,
   "dashboards": [],
   "environmentMetadata": null,
   "inputWidgetPreferences": null,
   "language": "python",
   "notebookMetadata": {
    "mostRecentlyExecutedCommandWithImplicitDF": {
     "commandId": -1,
     "dataframes": [
      "_sqldf"
     ]
    },
    "pythonIndentUnit": 4,
    "widgetLayout": [
     {
      "breakBefore": false,
      "name": "clear_previous_run",
      "width": 203
     },
     {
      "breakBefore": false,
      "name": "stop_streams",
      "width": 203
     }
    ]
   },
   "notebookName": "Starter Streaming Tweet Sentiment - Spring 2025 Final Project",
   "widgets": {
    "clear_previous_run": {
     "currentValue": "No",
     "nuid": "11b43403-c70f-41ef-ab0e-41172583baaa",
     "typedWidgetInfo": {
      "autoCreated": false,
      "defaultValue": "No",
      "label": null,
      "name": "clear_previous_run",
      "options": {
       "widgetDisplayType": "Dropdown",
       "choices": [
        "No",
        "Yes"
       ],
       "fixedDomain": true,
       "multiselect": false
      },
      "parameterDataType": "String"
     },
     "widgetInfo": {
      "widgetType": "dropdown",
      "defaultValue": "No",
      "label": null,
      "name": "clear_previous_run",
      "options": {
       "widgetType": "dropdown",
       "autoCreated": null,
       "choices": [
        "No",
        "Yes"
       ]
      }
     }
    },
    "optimize_tables": {
     "currentValue": "No",
     "nuid": "faeb9fc6-9b2b-4083-b988-64ffe3b5b233",
     "typedWidgetInfo": {
      "autoCreated": false,
      "defaultValue": "No",
      "label": null,
      "name": "optimize_tables",
      "options": {
       "widgetDisplayType": "Dropdown",
       "choices": [
        "No",
        "Yes"
       ],
       "fixedDomain": true,
       "multiselect": false
      },
      "parameterDataType": "String"
     },
     "widgetInfo": {
      "widgetType": "dropdown",
      "defaultValue": "No",
      "label": null,
      "name": "optimize_tables",
      "options": {
       "widgetType": "dropdown",
       "autoCreated": null,
       "choices": [
        "No",
        "Yes"
       ]
      }
     }
    },
    "stop_streams": {
     "currentValue": "No",
     "nuid": "f0b1f447-4ebf-42d6-8a02-fdf1a9f308b9",
     "typedWidgetInfo": {
      "autoCreated": false,
      "defaultValue": "No",
      "label": null,
      "name": "stop_streams",
      "options": {
       "widgetDisplayType": "Dropdown",
       "choices": [
        "No",
        "Yes"
       ],
       "fixedDomain": true,
       "multiselect": false
      },
      "parameterDataType": "String"
     },
     "widgetInfo": {
      "widgetType": "dropdown",
      "defaultValue": "No",
      "label": null,
      "name": "stop_streams",
      "options": {
       "widgetType": "dropdown",
       "autoCreated": null,
       "choices": [
        "No",
        "Yes"
       ]
      }
     }
    }
   }
  },
  "language_info": {
   "name": "python"
  }
 },
 "nbformat": 4,
 "nbformat_minor": 0
}
